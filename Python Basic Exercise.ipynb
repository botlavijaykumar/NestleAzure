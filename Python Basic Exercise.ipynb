{
 "cells": [
  {
   "cell_type": "markdown",
   "metadata": {},
   "source": [
    "## Python Basic Programming Exercises"
   ]
  },
  {
   "cell_type": "code",
   "execution_count": null,
   "metadata": {},
   "outputs": [],
   "source": [
    "#1: Write a program which will find all such numbers which are divisible by 7 \n",
    "#   but are not a multiple of 5, between 2000 and 3200 (both included).\n",
    "#Hints: Consider use range(#begin, #end) method\n",
    "for index in range(2000,2050):\n",
    "    if index%7 == 0 and index%5 != 0:\n",
    "        print(index)"
   ]
  },
  {
   "cell_type": "code",
   "execution_count": null,
   "metadata": {},
   "outputs": [],
   "source": [
    "#2. Write a program which can compute the factorial of a given numbers. \n",
    "#   The results should be printed in a comma-separated sequence on a single line. \n",
    "# input() function can be used for getting user(console) input\n",
    "# raw_input() for python 2.x\n",
    "\n",
    "#Suppose the input is supplied to the program:  8  \n",
    "#Then, the output should be:  40320 \n",
    "#Hints: In case of input data being supplied to the question, it should be assumed to be a console input. \n",
    "\n",
    "n = input()\n",
    "n = int(n)\n",
    "a = 1;\n",
    "for i in range(1, n+1):\n",
    "    a = a * i \n",
    "print(a)"
   ]
  },
  {
   "cell_type": "code",
   "execution_count": 7,
   "metadata": {},
   "outputs": [
    {
     "name": "stdout",
     "output_type": "stream",
     "text": [
      "Enter Num : 5\n"
     ]
    },
    {
     "data": {
      "text/plain": [
       "{1: 1, 2: 4, 3: 9, 4: 16, 5: 25}"
      ]
     },
     "execution_count": 7,
     "metadata": {},
     "output_type": "execute_result"
    }
   ],
   "source": [
    "#3. With a given integral number n, write a program to generate a dictionary that contains (i, i*i) such that is an integral number between 1 and n (both included). and then the program should print the dictionary.\n",
    "#Suppose the following input is supplied to the program: 8\n",
    "#Then, the output should be: {1: 1, 2: 4, 3: 9, 4: 16, 5: 25, 6: 36, 7: 49, 8: 64}\n",
    "#Hints: In case of input data being supplied to the question, it should be assumed to be a console input. Consider use dict()\n",
    "n = int(input(\"Enter Num : \"))\n",
    "res={}\n",
    "for i in range(1, n+1):\n",
    "    res[i]= i**2\n",
    "res\n",
    "#print(res.values())"
   ]
  },
  {
   "cell_type": "code",
   "execution_count": null,
   "metadata": {},
   "outputs": [],
   "source": [
    "#4. Write a program which accepts a sequence of comma-separated numbers from console and generate a list and a tuple which contains every number.\n",
    "#Suppose the following input is supplied to the program: 34,67,55,33,12,98\n",
    "    #Then, the output should be: ['34', '67', '55', '33', '12', '98'] ('34', '67', '55', '33', '12', '98')\n",
    "\n",
    "#Hints: In case of input data being supplied to the question, it should be assumed to be a console input. tuple() method can convert list to tuple\n",
    "\n",
    "t1 = input(\"Enter Number separated by comma : \")\n",
    "t2 = t1.split(\",\")\n",
    "t3 = tuple(t2)\n",
    "print(t2)\n",
    "print(t3)"
   ]
  },
  {
   "cell_type": "code",
   "execution_count": null,
   "metadata": {},
   "outputs": [],
   "source": [
    "#5. Define a class which has at least two methods: getString: to get a string from console input and \n",
    "#printString: to print the string in upper case. Also please include simple test function to test the class methods.\n",
    "\n",
    "#Hints: Use __init__ method to construct some parameters\n",
    "\n",
    "\n",
    "class Employee:\n",
    "    def getstring(self):\n",
    "      self.name = input()\n",
    " \n",
    "    def printstring(self):\n",
    "      print (\"Name : \", str.upper(self.name))\n",
    "      print (\"Name : \", self.name.upper())\n",
    "\n",
    "emp1 = Employee()\n",
    "emp1.getstring()\n",
    "emp1.printstring()"
   ]
  },
  {
   "cell_type": "code",
   "execution_count": null,
   "metadata": {},
   "outputs": [],
   "source": [
    "#6. Write a program that accepts a comma separated sequence of words as input and \n",
    "# prints the words in a comma-separated sequence after sorting them alphabetically.\n",
    "\n",
    "# Suppose the following input is supplied to the program: without,hello,bag,world\n",
    "# Then, the output should be: bag,hello,without,world\n",
    "\n",
    "#Hints: In case of input data being supplied to the question, it should be assumed to be a console input.\n",
    "\n",
    "ip=input()\n",
    "lst = ip.split(\",\")\n",
    "print(lst)\n",
    "lst.sort()\n",
    "print(lst)\n"
   ]
  },
  {
   "cell_type": "code",
   "execution_count": null,
   "metadata": {},
   "outputs": [],
   "source": [
    "#7. Write a program that accepts a sequence of whitespace separated words \n",
    "# as input and prints the words after removing all duplicate words and sorting them alphanumerically.\n",
    "# Suppose the following input is supplied to the program: hello world and practice makes perfect and hello world again\n",
    "# Then, the output should be: again and hello makes perfect practice world\n",
    "\n",
    "#Hints: In case of input data being supplied to the question, it should be assumed to be a console input.\n",
    "#We use set container to remove duplicated data automatically and then use sorted() to sort the data.\n",
    "\n",
    "ip=input()\n",
    "lst = ip.split(\" \")\n",
    "set1 = set(lst)\n",
    "print(sorted(set1))\n",
    "#sad sdf asdf sdf fgd wew asd jkj asd asdf"
   ]
  },
  {
   "cell_type": "code",
   "execution_count": null,
   "metadata": {},
   "outputs": [],
   "source": [
    "#8. Write a program that accepts a sentence and calculate the number of upper case \n",
    "# letters and lower case letters.\n",
    "#Suppose the following input is supplied to the program: Hello world!\n",
    "#Then, the output should be: UPPER CASE 1 LOWER CASE 9\n",
    "\n",
    "#Hints: In case of input data being supplied to the question, it should be assumed to be a console input.\n",
    "\n",
    "st=input()\n",
    "print(len(st))\n",
    "s=0\n",
    "u=0\n",
    "\n",
    "for i in range(0, len(st)):\n",
    "    \n",
    "    if(st[i].islower()):\n",
    "        s += 1\n",
    "    elif(st[i].isupper()):\n",
    "        u += 1\n",
    "print(\" small letters : \" + str(s))\n",
    "print (\" CAPITAL LETTERS : \" + str(u))\n"
   ]
  },
  {
   "cell_type": "code",
   "execution_count": null,
   "metadata": {},
   "outputs": [],
   "source": [
    "#9. A website requires the users to input username and password to register. Write a program to check the validity of password\n",
    "#input by users. Following are the criteria for checking the password:\n",
    "#1. At least 1 letter between [a-z]\n",
    "#2. At least 1 number between [0-9]\n",
    "#1. At least 1 letter between [A-Z]\n",
    "#3. At least 1 character from [$#@]\n",
    "#4. Minimum length of transaction password: 6\n",
    "#5. Maximum length of transaction password: 12\n",
    "#Your program should accept a sequence of comma separated passwords and will check them according to the above criteria. \n",
    "#Passwords that match the criteria are to be printed, each separated by a comma.\n",
    "#Example. If the following passwords are given as input to the program: ABd1234@1,a F1#,2w3E*,2We3345\n",
    "#Then, the output of the program should be: ABd1234@1\n",
    "\n",
    "# You can use module called re\n",
    "#Hints: In case of input data being supplied to the question, it should be assumed to be a console input.\n",
    "\n",
    "\n",
    "ip=input()\n",
    "lst = ip.split(\",\")\n",
    "#print(len(lst))\n",
    "\n",
    "for ln in range(0, len(lst)):\n",
    "    st=lst[ln] \n",
    "    l = len(st)\n",
    "    s=0\n",
    "    u=0\n",
    "    d=0\n",
    "    spl=0\n",
    "    jnk=0\n",
    " \n",
    "    #print(l)\n",
    "\n",
    "    if( l >= 6) & (l <= 12):\n",
    "        for i in range(0, len(st)):\n",
    "            if(st[i].islower()):\n",
    "                s += 1\n",
    "            elif(st[i].isupper()):\n",
    "                u += 1\n",
    "            elif(st[i].isdigit()):\n",
    "                d += 1\n",
    "            elif((st[i] == '$') | (st[i] == '#') | (st[i] == '@')):\n",
    "                spl += 1\n",
    "            else:\n",
    "                jnk += 1\n",
    "    if( (s > 0) & (u > 0) & (d > 0) & (spl > 0) & (jnk== 0)):\n",
    "        print(\"Perfect Password : \" + st)\n",
    "    #print (\" S: \" + str(s) + \" U: \" + str(u) + \" D: \" + str(d) +  \" Spl: \" + str(spl) +  \" Other: \" + str(jnk))\n"
   ]
  },
  {
   "cell_type": "code",
   "execution_count": null,
   "metadata": {},
   "outputs": [],
   "source": [
    "#10. Python has many built-in functions, and if you do not know how to use it, you can read document online or find some books.\n",
    "#But Python has a built-in document function for every built-in functions.\n",
    "#Please write a program to print some Python built-in functions documents, such as abs(), int(), raw_input()\n",
    "#And add document for your own function\n",
    "    \n",
    "#Hints: The built-in document method is __doc__\n",
    "def greet(name):\n",
    "    \"\"\"this is test function to display greetings\"\"\"\n",
    "    print()\n",
    "    \n",
    "print(greet.__doc__)"
   ]
  },
  {
   "cell_type": "code",
   "execution_count": null,
   "metadata": {},
   "outputs": [],
   "source": [
    "def abcd():\n",
    "    '''\n",
    "    dfdsf\n",
    "    dfdsf\n",
    "    gfhgfh\n",
    "    ghgfhgjf\n",
    "    '''"
   ]
  },
  {
   "cell_type": "code",
   "execution_count": null,
   "metadata": {},
   "outputs": [],
   "source": [
    "?abcd"
   ]
  },
  {
   "cell_type": "code",
   "execution_count": null,
   "metadata": {},
   "outputs": [],
   "source": [
    "#Write a Python program to input a number from the user and check if it is positive, negative or zero.\n",
    "ip=input()\n",
    "ip = int(ip)\n",
    "\"Positive\" if ( ip > 0)  else \"Negative\" if(ip < 0) else \"Zero\""
   ]
  },
  {
   "cell_type": "code",
   "execution_count": null,
   "metadata": {},
   "outputs": [],
   "source": [
    "#Write a Python Program to Check if a Number is Odd or Even by taking user input.\n",
    "ip=input()\n",
    "ip = int(ip)\n",
    "\"Even\" if ( ip % 2 == 0) else \"ODD\""
   ]
  },
  {
   "cell_type": "code",
   "execution_count": null,
   "metadata": {},
   "outputs": [],
   "source": [
    "#Write a Python Program to input a year with century and check if it is Leap Year or print invalid if it is not in the form of year with century.\n",
    "\n",
    "ip=input()\n",
    "ip = int(ip)\n",
    "\"Leap Year\" if ( ip % 4 == 0) & (ip % 100 != 0) else \"Not Leap\""
   ]
  },
  {
   "cell_type": "code",
   "execution_count": null,
   "metadata": {},
   "outputs": [],
   "source": [
    "#Write a Python Program to Find the Largest Among Three Numbers, using the least number of lines of code.\n",
    "\n",
    "a=input()\n",
    "b=input()\n",
    "c=input()\n",
    "\n",
    "a = int(a);\n",
    "b = int(b);\n",
    "c = int(c);\n",
    "\n",
    "if ((a > b) & (a > c)):\n",
    "    print (\" A is Big \" + str(a))\n",
    "elif(b > c):\n",
    "    print (\" B is Big \" + str(b))\n",
    "else:\n",
    "    print (\"C is Big \" + str(c))"
   ]
  },
  {
   "cell_type": "code",
   "execution_count": null,
   "metadata": {},
   "outputs": [],
   "source": [
    "#Write a Python Program to Check if a number is Prime Number or not.\n",
    "#Also, take the input of a range (min and max) from the user and Print all Prime Numbers that Interval\n",
    "ip=input()\n",
    "ip = int(ip)\n",
    "for k in range(2, ip):\n",
    "    flag = 0\n",
    "    for i in range(2, k//2):\n",
    "        if (k%i == 0):\n",
    "            flag = 1\n",
    "            break\n",
    "    if(flag == 0):\n",
    "        print(\"Prime Number : \" + str(k))\n",
    "    #else:\n",
    "     #   print(\"Not a Prime Number : \" + str(k))"
   ]
  },
  {
   "cell_type": "code",
   "execution_count": null,
   "metadata": {},
   "outputs": [],
   "source": [
    "#Write a Python Program to Find the Factorial of a Number.\n",
    "n = input()\n",
    "n = int(n)\n",
    "a = 1;\n",
    "for i in range(1, n+1):\n",
    "    a = a * i \n",
    "print(\"Factorial Nummber \" + str(a))"
   ]
  },
  {
   "cell_type": "code",
   "execution_count": 13,
   "metadata": {},
   "outputs": [
    {
     "name": "stdout",
     "output_type": "stream",
     "text": [
      "5\n",
      "10\n",
      "15\n",
      "20\n",
      "25\n",
      "30\n",
      "35\n",
      "40\n",
      "45\n",
      "50\n"
     ]
    }
   ],
   "source": [
    "#Write a Python Program to Display the multiplication Table by taking the number as input.\n",
    "ip=input()\n",
    "ip = int(ip)\n",
    "for k in range(2, 11):\n",
    "   print(str(k*ip))"
   ]
  },
  {
   "cell_type": "code",
   "execution_count": 17,
   "metadata": {},
   "outputs": [
    {
     "name": "stdout",
     "output_type": "stream",
     "text": [
      "5\n",
      "0 1\n",
      "1 \n",
      "2 \n",
      "3 \n"
     ]
    }
   ],
   "source": [
    "#Write a Python Program to Print the Fibonacci sequence.\n",
    "\n",
    "ip=int(input())\n",
    "ip1 = 0\n",
    "ip2 = 1\n",
    "print(str(ip1) + \" \" + str(ip2))\n",
    "for k in range(2, ip):\n",
    "    ip3 = ip1 + ip2\n",
    "    ip1 = ip2\n",
    "    ip2 = ip3\n",
    "    print(str(ip3) + \" \")"
   ]
  },
  {
   "cell_type": "code",
   "execution_count": null,
   "metadata": {},
   "outputs": [],
   "source": [
    "#Write a Python Program to Find the Sum of Natural Numbers."
   ]
  }
 ],
 "metadata": {
  "kernelspec": {
   "display_name": "Python 3",
   "language": "python",
   "name": "python3"
  },
  "language_info": {
   "codemirror_mode": {
    "name": "ipython",
    "version": 3
   },
   "file_extension": ".py",
   "mimetype": "text/x-python",
   "name": "python",
   "nbconvert_exporter": "python",
   "pygments_lexer": "ipython3",
   "version": "3.7.1"
  }
 },
 "nbformat": 4,
 "nbformat_minor": 2
}
